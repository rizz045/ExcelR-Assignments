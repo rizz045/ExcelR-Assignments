{
 "cells": [
  {
   "cell_type": "markdown",
   "id": "0ae1a3c3-64bd-4c3b-84d4-3daf09c5ac49",
   "metadata": {},
   "source": [
    "# Assignment 2: Estimation And Confidence Intervals"
   ]
  },
  {
   "cell_type": "markdown",
   "id": "4de27054-3835-4c3f-b56b-c7e7841f0a25",
   "metadata": {},
   "source": [
    "A. Build 99% Confidence Interval Using Sample Standard Deviation\n",
    "Assuming the sample is representative of the population, construct a 99% confidence interval for the mean number of characters printed before the print-head fails using the sample standard deviation. Explain the steps you take and the rationale behind using the t-distribution for this task.\n"
   ]
  },
  {
   "cell_type": "code",
   "execution_count": 3,
   "id": "0b7449f2-631d-4efe-84ca-5ff4f91dbe9f",
   "metadata": {},
   "outputs": [],
   "source": [
    "import numpy as np\n",
    "import pandas as pd\n",
    "import statistics as st"
   ]
  },
  {
   "cell_type": "code",
   "execution_count": 99,
   "id": "ed125e60-e6f1-48c0-92fc-e4a95ad3459a",
   "metadata": {},
   "outputs": [],
   "source": [
    "data = np.array([1.13, 1.55, 1.43, 0.92, 1.25, 1.36, 1.32, 0.85, 1.07, 1.48, 1.20, 1.33, 1.18, 1.22, 1.29])"
   ]
  },
  {
   "cell_type": "code",
   "execution_count": 105,
   "id": "0335376f-ca22-4496-a0c1-ab562793b343",
   "metadata": {},
   "outputs": [
    {
     "data": {
      "text/plain": [
       "14"
      ]
     },
     "execution_count": 105,
     "metadata": {},
     "output_type": "execute_result"
    }
   ],
   "source": [
    "# Calculation degrees of freedom = (total number of elements - 1)\n",
    "\n",
    "dof = len(x) - 1\n",
    "dof"
   ]
  },
  {
   "cell_type": "code",
   "execution_count": 109,
   "id": "62643479-4e4d-4434-955b-862f5f0876ab",
   "metadata": {},
   "outputs": [
    {
     "data": {
      "text/plain": [
       "1.2386666666666666"
      ]
     },
     "execution_count": 109,
     "metadata": {},
     "output_type": "execute_result"
    }
   ],
   "source": [
    "#Calculating Mean of the data\n",
    "mu = np.mean(data)\n",
    "mu"
   ]
  },
  {
   "cell_type": "code",
   "execution_count": 121,
   "id": "c1a4bad6-e761-43f2-9d31-688006fa343a",
   "metadata": {},
   "outputs": [
    {
     "data": {
      "text/plain": [
       "0.19316412956959936"
      ]
     },
     "execution_count": 121,
     "metadata": {},
     "output_type": "execute_result"
    }
   ],
   "source": [
    "#Calculating Sample Standard Deviation\n",
    "std_x = np.std(x, ddof = 1)    # here we must explicitly set ddof = 1 since we are calculating sample SD\n",
    "std_x"
   ]
  },
  {
   "cell_type": "code",
   "execution_count": null,
   "id": "5b62e230-3a80-4505-9249-df9a5a8047bd",
   "metadata": {},
   "outputs": [],
   "source": [
    "# The reason why we are using t-Distribution is because our sample size is 15 which is lessthan 30 we'll be using t-distribution."
   ]
  },
  {
   "cell_type": "code",
   "execution_count": 129,
   "id": "ff32645c-5158-4c6e-bf48-1d229e91f577",
   "metadata": {},
   "outputs": [
    {
     "data": {
      "text/plain": [
       "2.976842734370834"
      ]
     },
     "execution_count": 129,
     "metadata": {},
     "output_type": "execute_result"
    }
   ],
   "source": [
    "from scipy import stats\n",
    "\n",
    "confidence_score = 0.99    #Confidence score 99% (given)\n",
    "t_stats = stats.t.ppf(1 - (1-confidence_score)/2, dof)\n",
    "t_stats"
   ]
  },
  {
   "cell_type": "code",
   "execution_count": 125,
   "id": "43d20c86-8574-46d2-ad48-bf4e07f755ad",
   "metadata": {},
   "outputs": [
    {
     "data": {
      "text/plain": [
       "0.14846932822817596"
      ]
     },
     "execution_count": 125,
     "metadata": {},
     "output_type": "execute_result"
    }
   ],
   "source": [
    "#Calculating margine of error\n",
    "\n",
    "margine_of_error = t_value * (std_x/np.sqrt(len(x)))\n",
    "margine_of_error"
   ]
  },
  {
   "cell_type": "code",
   "execution_count": 136,
   "id": "fa26fb5e-ee2a-4b24-8c99-9adc23d22df5",
   "metadata": {},
   "outputs": [
    {
     "name": "stdout",
     "output_type": "stream",
     "text": [
      "The Confidence Interval : \n",
      "Lower Bound :  1.0901973384384906\n",
      "Upper Bound :  1.3871359948948425\n"
     ]
    }
   ],
   "source": [
    "lower_bound = mu - margine_of_error\n",
    "upper_bound = mu + margine_of_error\n",
    "print(\"The Confidence Interval : \")\n",
    "print(\"Lower Bound : \",lower_bound)\n",
    "print(\"Upper Bound : \",upper_bound)"
   ]
  },
  {
   "cell_type": "markdown",
   "id": "a962bcc7-248d-4d08-888c-196c17d3c634",
   "metadata": {},
   "source": [
    "------------------------------------------------------------------------------\n",
    "\n",
    "B. Build 99% Confidence Interval Using Known Population Standard Deviation\n",
    "If it were known that the population standard deviation is 0.2 million characters, construct a 99% confidence interval for the mean number of characters printed before failure.\n"
   ]
  },
  {
   "cell_type": "code",
   "execution_count": 145,
   "id": "21e68523-fbcb-4acf-878c-829cd325e64b",
   "metadata": {},
   "outputs": [],
   "source": [
    "#calculate the sample mean\n",
    "\n",
    "mu = data.mean()   #sample mean\n",
    "dof = len(data)-1  #degrees of freedom\n",
    "population_sd = 0.2   #population standard devation (given in the question)\n",
    "confidence_score = 0.99   #confidence score meaning (alpha = 0.01)\n",
    "alpha = 1 - confidence_score"
   ]
  },
  {
   "cell_type": "code",
   "execution_count": 147,
   "id": "82752ef9-97a3-4599-922a-cd8d923ebb88",
   "metadata": {},
   "outputs": [],
   "source": [
    "# Since we are already aware of population standard deviation our data points are definately more than 30 so we'll have to use z-test"
   ]
  },
  {
   "cell_type": "code",
   "execution_count": 153,
   "id": "96b69871-20ae-4d3d-9afa-90c42460cd30",
   "metadata": {},
   "outputs": [
    {
     "data": {
      "text/plain": [
       "2.5758293035489004"
      ]
     },
     "execution_count": 153,
     "metadata": {},
     "output_type": "execute_result"
    }
   ],
   "source": [
    "z_value = stats.norm.ppf(1-(1-confidence_score)/2)\n",
    "z_value"
   ]
  },
  {
   "cell_type": "code",
   "execution_count": 155,
   "id": "6bf8e94d-fdf7-43b2-bc38-9c9099d81c7a",
   "metadata": {},
   "outputs": [
    {
     "data": {
      "text/plain": [
       "0.13301525327090588"
      ]
     },
     "execution_count": 155,
     "metadata": {},
     "output_type": "execute_result"
    }
   ],
   "source": [
    "margine_of_error = z_value * (population_sd/np.sqrt(len(data)))\n",
    "margine_of_error"
   ]
  },
  {
   "cell_type": "code",
   "execution_count": 157,
   "id": "e273b1d6-39cb-400f-9331-2cb7c7218b01",
   "metadata": {},
   "outputs": [
    {
     "name": "stdout",
     "output_type": "stream",
     "text": [
      "The Confidence Interval : \n",
      "Lower Bound :  1.1056514133957607\n",
      "Upper Bound :  1.3716819199375725\n"
     ]
    }
   ],
   "source": [
    "lower_bound = mu - margine_of_error\n",
    "upper_bound = mu + margine_of_error\n",
    "print(\"The Confidence Interval : \")\n",
    "print(\"Lower Bound : \",lower_bound)\n",
    "print(\"Upper Bound : \",upper_bound)"
   ]
  },
  {
   "cell_type": "markdown",
   "id": "3f48b16f-a724-41b9-a964-5025ecfdb9f0",
   "metadata": {},
   "source": [
    "From above 2 Confidence intervals:\n",
    "t-Distribution Confidence interval : (1.0901973384384906, 1.3871359948948425)\n",
    "z-Distribution Confidence interval : (1.1056514133957607, 1.3716819199375725)\n",
    "\n",
    "We can infer that :\n",
    "* z-Distribution range is smaller than t-Distribution.\n",
    "* z-Distribution is more precise than t-Distribution.\n",
    "* If we don't know the population standard deviation we use t-Distribution."
   ]
  },
  {
   "cell_type": "code",
   "execution_count": null,
   "id": "7152c3fc-7159-4285-b7ea-2314d67fb0b9",
   "metadata": {},
   "outputs": [],
   "source": []
  }
 ],
 "metadata": {
  "kernelspec": {
   "display_name": "Python 3 (ipykernel)",
   "language": "python",
   "name": "python3"
  },
  "language_info": {
   "codemirror_mode": {
    "name": "ipython",
    "version": 3
   },
   "file_extension": ".py",
   "mimetype": "text/x-python",
   "name": "python",
   "nbconvert_exporter": "python",
   "pygments_lexer": "ipython3",
   "version": "3.12.3"
  }
 },
 "nbformat": 4,
 "nbformat_minor": 5
}
