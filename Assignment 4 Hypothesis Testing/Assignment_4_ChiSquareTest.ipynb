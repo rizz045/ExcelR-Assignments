{
 "cells": [
  {
   "cell_type": "markdown",
   "id": "e3822eac-d081-44a8-9faa-da46d6c47f32",
   "metadata": {},
   "source": [
    "### Assignment To Perform Chi-Squared Test on Association Between Device Type and Customer Satisfaction."
   ]
  },
  {
   "cell_type": "code",
   "execution_count": 2,
   "id": "c68d2b79-33be-41ae-8496-f01074f8c243",
   "metadata": {},
   "outputs": [],
   "source": [
    "import pandas as pd\n",
    "import numpy as np\n",
    "import matplotlib.pyplot as plt"
   ]
  },
  {
   "cell_type": "code",
   "execution_count": 4,
   "id": "e779c01c-cd78-47df-a418-3535c52dc48e",
   "metadata": {},
   "outputs": [
    {
     "data": {
      "text/html": [
       "<div>\n",
       "<style scoped>\n",
       "    .dataframe tbody tr th:only-of-type {\n",
       "        vertical-align: middle;\n",
       "    }\n",
       "\n",
       "    .dataframe tbody tr th {\n",
       "        vertical-align: top;\n",
       "    }\n",
       "\n",
       "    .dataframe thead th {\n",
       "        text-align: right;\n",
       "    }\n",
       "</style>\n",
       "<table border=\"1\" class=\"dataframe\">\n",
       "  <thead>\n",
       "    <tr style=\"text-align: right;\">\n",
       "      <th></th>\n",
       "      <th>Satisfaction</th>\n",
       "      <th>Smart Thermostat</th>\n",
       "      <th>Smart Light</th>\n",
       "    </tr>\n",
       "  </thead>\n",
       "  <tbody>\n",
       "    <tr>\n",
       "      <th>0</th>\n",
       "      <td>Very Satisfied</td>\n",
       "      <td>50</td>\n",
       "      <td>70</td>\n",
       "    </tr>\n",
       "    <tr>\n",
       "      <th>1</th>\n",
       "      <td>Satisfied</td>\n",
       "      <td>80</td>\n",
       "      <td>100</td>\n",
       "    </tr>\n",
       "    <tr>\n",
       "      <th>2</th>\n",
       "      <td>Neutral</td>\n",
       "      <td>60</td>\n",
       "      <td>90</td>\n",
       "    </tr>\n",
       "    <tr>\n",
       "      <th>3</th>\n",
       "      <td>Unsatisfied</td>\n",
       "      <td>30</td>\n",
       "      <td>50</td>\n",
       "    </tr>\n",
       "    <tr>\n",
       "      <th>4</th>\n",
       "      <td>Very Unsatisfied</td>\n",
       "      <td>20</td>\n",
       "      <td>50</td>\n",
       "    </tr>\n",
       "  </tbody>\n",
       "</table>\n",
       "</div>"
      ],
      "text/plain": [
       "       Satisfaction  Smart Thermostat  Smart Light\n",
       "0    Very Satisfied                50           70\n",
       "1         Satisfied                80          100\n",
       "2           Neutral                60           90\n",
       "3       Unsatisfied                30           50\n",
       "4  Very Unsatisfied                20           50"
      ]
     },
     "execution_count": 4,
     "metadata": {},
     "output_type": "execute_result"
    }
   ],
   "source": [
    "#Given Data\n",
    "\n",
    "df = pd.DataFrame({\n",
    "    \"Satisfaction\" : [\"Very Satisfied\",\"Satisfied\",\"Neutral\",\"Unsatisfied\",\"Very Unsatisfied\"],\n",
    "    \"Smart Thermostat\": [50,80,60,30,20],\n",
    "    \"Smart Light\": [70,100,90,50,50],\n",
    "})\n",
    "df"
   ]
  },
  {
   "cell_type": "code",
   "execution_count": 6,
   "id": "d42a960f-3105-4978-bd8d-01e1a6d7ba72",
   "metadata": {},
   "outputs": [
    {
     "data": {
      "text/html": [
       "<div>\n",
       "<style scoped>\n",
       "    .dataframe tbody tr th:only-of-type {\n",
       "        vertical-align: middle;\n",
       "    }\n",
       "\n",
       "    .dataframe tbody tr th {\n",
       "        vertical-align: top;\n",
       "    }\n",
       "\n",
       "    .dataframe thead th {\n",
       "        text-align: right;\n",
       "    }\n",
       "</style>\n",
       "<table border=\"1\" class=\"dataframe\">\n",
       "  <thead>\n",
       "    <tr style=\"text-align: right;\">\n",
       "      <th></th>\n",
       "      <th>Satisfaction</th>\n",
       "      <th>Smart Thermostat</th>\n",
       "      <th>Smart Light</th>\n",
       "      <th>Total</th>\n",
       "    </tr>\n",
       "  </thead>\n",
       "  <tbody>\n",
       "    <tr>\n",
       "      <th>0</th>\n",
       "      <td>Very Satisfied</td>\n",
       "      <td>50</td>\n",
       "      <td>70</td>\n",
       "      <td>120</td>\n",
       "    </tr>\n",
       "    <tr>\n",
       "      <th>1</th>\n",
       "      <td>Satisfied</td>\n",
       "      <td>80</td>\n",
       "      <td>100</td>\n",
       "      <td>180</td>\n",
       "    </tr>\n",
       "    <tr>\n",
       "      <th>2</th>\n",
       "      <td>Neutral</td>\n",
       "      <td>60</td>\n",
       "      <td>90</td>\n",
       "      <td>150</td>\n",
       "    </tr>\n",
       "    <tr>\n",
       "      <th>3</th>\n",
       "      <td>Unsatisfied</td>\n",
       "      <td>30</td>\n",
       "      <td>50</td>\n",
       "      <td>80</td>\n",
       "    </tr>\n",
       "    <tr>\n",
       "      <th>4</th>\n",
       "      <td>Very Unsatisfied</td>\n",
       "      <td>20</td>\n",
       "      <td>50</td>\n",
       "      <td>70</td>\n",
       "    </tr>\n",
       "  </tbody>\n",
       "</table>\n",
       "</div>"
      ],
      "text/plain": [
       "       Satisfaction  Smart Thermostat  Smart Light  Total\n",
       "0    Very Satisfied                50           70    120\n",
       "1         Satisfied                80          100    180\n",
       "2           Neutral                60           90    150\n",
       "3       Unsatisfied                30           50     80\n",
       "4  Very Unsatisfied                20           50     70"
      ]
     },
     "execution_count": 6,
     "metadata": {},
     "output_type": "execute_result"
    }
   ],
   "source": [
    "df['Total'] = df['Smart Thermostat'] + df['Smart Light']\n",
    "df"
   ]
  },
  {
   "cell_type": "markdown",
   "id": "32d5b1cb-f992-4596-abef-84ddce64d1de",
   "metadata": {},
   "source": [
    "USE CASE : To use the Chi-Square test for independence to determine if \n",
    "there's a significant association between the type of smart home device \n",
    "purchased (Smart Thermostats vs. Smart Lights) and the customer satisfaction level"
   ]
  },
  {
   "cell_type": "code",
   "execution_count": 9,
   "id": "73e66a04-fec8-47a1-93f4-6e8833d14e37",
   "metadata": {},
   "outputs": [
    {
     "data": {
      "text/plain": [
       "(5, 4)"
      ]
     },
     "execution_count": 9,
     "metadata": {},
     "output_type": "execute_result"
    }
   ],
   "source": [
    "#Perfroming Basic EDA\n",
    "df.shape"
   ]
  },
  {
   "cell_type": "code",
   "execution_count": 11,
   "id": "63393e52-f3cf-4c3e-8f42-4f0ea8a4a3c3",
   "metadata": {},
   "outputs": [
    {
     "data": {
      "text/plain": [
       "Index(['Satisfaction', 'Smart Thermostat', 'Smart Light', 'Total'], dtype='object')"
      ]
     },
     "execution_count": 11,
     "metadata": {},
     "output_type": "execute_result"
    }
   ],
   "source": [
    "df.columns"
   ]
  },
  {
   "cell_type": "code",
   "execution_count": 13,
   "id": "a1888083-8fe1-4f34-8f8e-cfbb3007f6d7",
   "metadata": {},
   "outputs": [
    {
     "name": "stdout",
     "output_type": "stream",
     "text": [
      "<class 'pandas.core.frame.DataFrame'>\n",
      "RangeIndex: 5 entries, 0 to 4\n",
      "Data columns (total 4 columns):\n",
      " #   Column            Non-Null Count  Dtype \n",
      "---  ------            --------------  ----- \n",
      " 0   Satisfaction      5 non-null      object\n",
      " 1   Smart Thermostat  5 non-null      int64 \n",
      " 2   Smart Light       5 non-null      int64 \n",
      " 3   Total             5 non-null      int64 \n",
      "dtypes: int64(3), object(1)\n",
      "memory usage: 292.0+ bytes\n"
     ]
    }
   ],
   "source": [
    "df.info()"
   ]
  },
  {
   "cell_type": "code",
   "execution_count": 15,
   "id": "26289fe3-bb52-4399-a642-9046449ffb06",
   "metadata": {},
   "outputs": [
    {
     "data": {
      "text/html": [
       "<div>\n",
       "<style scoped>\n",
       "    .dataframe tbody tr th:only-of-type {\n",
       "        vertical-align: middle;\n",
       "    }\n",
       "\n",
       "    .dataframe tbody tr th {\n",
       "        vertical-align: top;\n",
       "    }\n",
       "\n",
       "    .dataframe thead th {\n",
       "        text-align: right;\n",
       "    }\n",
       "</style>\n",
       "<table border=\"1\" class=\"dataframe\">\n",
       "  <thead>\n",
       "    <tr style=\"text-align: right;\">\n",
       "      <th></th>\n",
       "      <th>Smart Thermostat</th>\n",
       "      <th>Smart Light</th>\n",
       "      <th>Total</th>\n",
       "    </tr>\n",
       "  </thead>\n",
       "  <tbody>\n",
       "    <tr>\n",
       "      <th>count</th>\n",
       "      <td>5.000000</td>\n",
       "      <td>5.000000</td>\n",
       "      <td>5.000000</td>\n",
       "    </tr>\n",
       "    <tr>\n",
       "      <th>mean</th>\n",
       "      <td>48.000000</td>\n",
       "      <td>72.000000</td>\n",
       "      <td>120.000000</td>\n",
       "    </tr>\n",
       "    <tr>\n",
       "      <th>std</th>\n",
       "      <td>23.874673</td>\n",
       "      <td>22.803509</td>\n",
       "      <td>46.368092</td>\n",
       "    </tr>\n",
       "    <tr>\n",
       "      <th>min</th>\n",
       "      <td>20.000000</td>\n",
       "      <td>50.000000</td>\n",
       "      <td>70.000000</td>\n",
       "    </tr>\n",
       "    <tr>\n",
       "      <th>25%</th>\n",
       "      <td>30.000000</td>\n",
       "      <td>50.000000</td>\n",
       "      <td>80.000000</td>\n",
       "    </tr>\n",
       "    <tr>\n",
       "      <th>50%</th>\n",
       "      <td>50.000000</td>\n",
       "      <td>70.000000</td>\n",
       "      <td>120.000000</td>\n",
       "    </tr>\n",
       "    <tr>\n",
       "      <th>75%</th>\n",
       "      <td>60.000000</td>\n",
       "      <td>90.000000</td>\n",
       "      <td>150.000000</td>\n",
       "    </tr>\n",
       "    <tr>\n",
       "      <th>max</th>\n",
       "      <td>80.000000</td>\n",
       "      <td>100.000000</td>\n",
       "      <td>180.000000</td>\n",
       "    </tr>\n",
       "  </tbody>\n",
       "</table>\n",
       "</div>"
      ],
      "text/plain": [
       "       Smart Thermostat  Smart Light       Total\n",
       "count          5.000000     5.000000    5.000000\n",
       "mean          48.000000    72.000000  120.000000\n",
       "std           23.874673    22.803509   46.368092\n",
       "min           20.000000    50.000000   70.000000\n",
       "25%           30.000000    50.000000   80.000000\n",
       "50%           50.000000    70.000000  120.000000\n",
       "75%           60.000000    90.000000  150.000000\n",
       "max           80.000000   100.000000  180.000000"
      ]
     },
     "execution_count": 15,
     "metadata": {},
     "output_type": "execute_result"
    }
   ],
   "source": [
    "df.describe()"
   ]
  },
  {
   "cell_type": "code",
   "execution_count": 17,
   "id": "b7f0da91-e7f6-48d3-b87f-f7c63169ceaa",
   "metadata": {},
   "outputs": [
    {
     "data": {
      "text/plain": [
       "Satisfaction        0\n",
       "Smart Thermostat    0\n",
       "Smart Light         0\n",
       "Total               0\n",
       "dtype: int64"
      ]
     },
     "execution_count": 17,
     "metadata": {},
     "output_type": "execute_result"
    }
   ],
   "source": [
    "df.isnull().sum()"
   ]
  },
  {
   "cell_type": "markdown",
   "id": "6ca34092-aefb-4746-b1fc-783faab39485",
   "metadata": {},
   "source": [
    "#### 1. State The Hypothesis\n",
    "\n",
    "* **H0/Null-Hypothesis :** There is no significant association between the type of smart home device purchased (Smart Thermostats vs. Smart Lights) and the customer satisfaction level.\n",
    "\n",
    "* **HA/Alternate-Hypothesis :** There is a significant association between the type of dmsrt home device purchsed and customer satisfaction level."
   ]
  },
  {
   "cell_type": "code",
   "execution_count": 20,
   "id": "237f43f2-0b0c-4930-9519-1e2ea4348901",
   "metadata": {},
   "outputs": [
    {
     "name": "stdout",
     "output_type": "stream",
     "text": [
      "[[ 50  70]\n",
      " [ 80 100]\n",
      " [ 60  90]\n",
      " [ 30  50]\n",
      " [ 20  50]]\n"
     ]
    }
   ],
   "source": [
    "# Separating Observed Value\n",
    "\n",
    "observed = df[['Smart Thermostat','Smart Light']].values\n",
    "print(observed)"
   ]
  },
  {
   "cell_type": "markdown",
   "id": "26304c76-edc2-449d-9798-e287486c3ad8",
   "metadata": {},
   "source": [
    "#### 2. Computing the Chi-Square Statistic:"
   ]
  },
  {
   "cell_type": "code",
   "execution_count": 23,
   "id": "755da3f3-ec19-4fca-a2b9-dea934ed06fc",
   "metadata": {},
   "outputs": [
    {
     "data": {
      "text/plain": [
       "(5.638227513227513,\n",
       " 0.22784371130697179,\n",
       " 4,\n",
       " array([[ 48.,  72.],\n",
       "        [ 72., 108.],\n",
       "        [ 60.,  90.],\n",
       "        [ 32.,  48.],\n",
       "        [ 28.,  42.]]))"
      ]
     },
     "execution_count": 23,
     "metadata": {},
     "output_type": "execute_result"
    }
   ],
   "source": [
    "import scipy.stats as stats\n",
    "from scipy.stats import chi2_contingency\n",
    "\n",
    "#chi2_contingency takes observed values as argumen and returns 4 values - chi2_stats, p_value, Degrees_of_freedom, expected value\n",
    "#most direct and forward way of performing chi-squared test\n",
    "\n",
    "chi2_stat, p_value, dof, expected = stats.chi2_contingency(observed)\n",
    "chi2_stat, p_value, dof, expected"
   ]
  },
  {
   "cell_type": "markdown",
   "id": "b249a9d0-1de6-43fc-bc00-27505dbd8161",
   "metadata": {},
   "source": [
    "**Formula to calculate Expected value:** E = (Total_rows * Total_columns)/Grand_total\n",
    "\n",
    "**Formula to calculate Chi-Squared Statistics :** \n",
    "chi_square = summation[(Observed_value - Expected_value)**2/Expected_value]"
   ]
  },
  {
   "cell_type": "code",
   "execution_count": 25,
   "id": "3cddb269-7509-4272-bd95-0ec2c9e33f15",
   "metadata": {},
   "outputs": [
    {
     "data": {
      "text/plain": [
       "array([3.38293651, 2.25529101])"
      ]
     },
     "execution_count": 25,
     "metadata": {},
     "output_type": "execute_result"
    }
   ],
   "source": [
    "#Manual way of calculating chi_statistics\n",
    "\n",
    "chi_square = sum([(o-e)**2/e for o,e in zip(observed, expected)])\n",
    "chi_square"
   ]
  },
  {
   "cell_type": "code",
   "execution_count": 26,
   "id": "d9b40c20-3c25-4dfb-896d-e4fbf920d8d9",
   "metadata": {},
   "outputs": [
    {
     "data": {
      "text/plain": [
       "5.638227513227513"
      ]
     },
     "execution_count": 26,
     "metadata": {},
     "output_type": "execute_result"
    }
   ],
   "source": [
    "chi_square_statistics = chi_square[0]+chi_square[1]\n",
    "chi_square_statistics"
   ]
  },
  {
   "cell_type": "markdown",
   "id": "36a8cb05-b204-466d-b681-085881853b1b",
   "metadata": {},
   "source": [
    "We can see manual way and using the function gave the same chi_stats value (that is 5.638227513227513)"
   ]
  },
  {
   "cell_type": "markdown",
   "id": "dde3c64a-fd5f-4ced-8088-d1da733a7fc0",
   "metadata": {},
   "source": [
    "3. Determining the Critical Value:\n",
    "\n",
    "**To determine Critical Value :** \n",
    "\n",
    "**Degrees of freedom (DOF) =** (number_of_rows - 1)*(numer_of_columns - 1)\n",
    "**Significance Level (alpa)=** 0.05"
   ]
  },
  {
   "cell_type": "code",
   "execution_count": 32,
   "id": "bc18385a-228f-4e92-9b21-aba7655694d5",
   "metadata": {},
   "outputs": [],
   "source": [
    "#Finding Degrees of freedom manually\n",
    "\n",
    "raw_data = pd.DataFrame(observed)\n",
    "rows = len(raw_data.iloc[:,:1])     #Selects the total number of rows  (5)\n",
    "cols = len(raw_data.columns)        #Selects the total number of columns  (2)\n",
    "dof = (rows-1)*(cols-1)             #manual way of finding Defrees of freedom\n",
    "alpha = 0.05                        #Singnificance level"
   ]
  },
  {
   "cell_type": "code",
   "execution_count": 34,
   "id": "244d79bf-40a3-411d-ae03-e67299be9c2c",
   "metadata": {},
   "outputs": [
    {
     "name": "stdout",
     "output_type": "stream",
     "text": [
      "The Critical Value is :  9.487729036781154\n"
     ]
    }
   ],
   "source": [
    "#Finding the Criical Value\n",
    "from scipy.stats import chi2\n",
    "\n",
    "critical_value = chi2.ppf(q=1-alpha, df=dof)      #q is the quantile value which is equal to 1-significance_level\n",
    "print(\"The Critical Value is : \",critical_value)"
   ]
  },
  {
   "cell_type": "markdown",
   "id": "8aa87ef9-ad71-4240-b0d3-f6ff7c08a384",
   "metadata": {},
   "source": [
    "4. Making a Decision:"
   ]
  },
  {
   "cell_type": "code",
   "execution_count": 39,
   "id": "d1df2e55-ed98-4b7a-a8a7-f0cda0f1e3a3",
   "metadata": {},
   "outputs": [
    {
     "name": "stdout",
     "output_type": "stream",
     "text": [
      "Falield to Reject Null Hypothesis\n"
     ]
    }
   ],
   "source": [
    "if critical_value <= chi_square_statistics:\n",
    "    print(\"Reject Null Hypothesis\")\n",
    "else:\n",
    "    print(\"Falield to Reject Null Hypothesis\")"
   ]
  },
  {
   "cell_type": "markdown",
   "id": "d28379f8-5dd1-4403-aa04-8267d43c8dbc",
   "metadata": {},
   "source": [
    "Since the chi_statistics value is less than that of critical value we can conclude by saying that we failed to reject NULL HYPOTHESE (H0).\n",
    "\n",
    "Hence we can say based on the hypothesis test \"there is no significant association between the type of smart home device purchased (Smart Thermostats vs. Smart Lights) and the customer satisfaction level.\""
   ]
  },
  {
   "cell_type": "code",
   "execution_count": null,
   "id": "d26710e2-322f-44df-8647-5ef40c90a990",
   "metadata": {},
   "outputs": [],
   "source": []
  }
 ],
 "metadata": {
  "kernelspec": {
   "display_name": "Python 3 (ipykernel)",
   "language": "python",
   "name": "python3"
  },
  "language_info": {
   "codemirror_mode": {
    "name": "ipython",
    "version": 3
   },
   "file_extension": ".py",
   "mimetype": "text/x-python",
   "name": "python",
   "nbconvert_exporter": "python",
   "pygments_lexer": "ipython3",
   "version": "3.12.3"
  }
 },
 "nbformat": 4,
 "nbformat_minor": 5
}
