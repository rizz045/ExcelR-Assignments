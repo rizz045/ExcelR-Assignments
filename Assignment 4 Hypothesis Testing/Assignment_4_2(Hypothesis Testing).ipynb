{
 "cells": [
  {
   "cell_type": "markdown",
   "id": "fec6c589-8666-4f33-aad4-5d1030c0d4cc",
   "metadata": {},
   "source": [
    "1. State the Hypotheses statement:"
   ]
  },
  {
   "cell_type": "markdown",
   "id": "3d940b1f-f83d-43b7-98d4-39f08423bfa2",
   "metadata": {},
   "source": [
    "* H0 : There is no increase in the weekly operational costs. That is W = $1,000 + $5X\n",
    "* HA/H1 : There is an increase in the weekly operational costs. That is W > $1,000 + $5X\n",
    "\n",
    "Based on the hypothesis we can say it's a one tailed test(right tailed) because the alternate hypothesis suggests that there is an increase but not mentioned about the decrease so we can say it's one tailed test."
   ]
  },
  {
   "cell_type": "markdown",
   "id": "c82c96d7-5b2c-49f4-9e63-0b25cf536c5b",
   "metadata": {},
   "source": [
    "2. Calculate The Test Statistics\n",
    "\n",
    "Use the following formula to calculate the test statistic (t):\n",
    "where:\n",
    "\n",
    "•\tˉxˉ = sample mean weekly cost (Rs. 3,050)\n",
    "\n",
    "•\tμ = theoretical mean weekly cost according to the cost model (W = $1,000 + $5X for X = 600 units)\n",
    "\n",
    "•\tσ = 5*25 units\n",
    "\n",
    "•\tn = sample size (25 restaurants)\n"
   ]
  },
  {
   "cell_type": "code",
   "execution_count": 17,
   "id": "c1615b4d-5ef3-4d32-95ef-ee854d767ebf",
   "metadata": {},
   "outputs": [],
   "source": [
    "import numpy as np\n",
    "from scipy import stats"
   ]
  },
  {
   "cell_type": "code",
   "execution_count": 19,
   "id": "afb7ca90-f125-43ec-9005-86f1f0122ea4",
   "metadata": {},
   "outputs": [],
   "source": [
    "#Given data \n",
    "x_bar = 3050         # Sample mean\n",
    "mu = 1000 + 5*600    # theoretical mean (formula given for X=600 units)\n",
    "sigma = 5*25         # 5*25 (5 is the standard deviation, 25 is the units)\n",
    "n = 25               # Sample Size (given for 25 restraunts)\n",
    "alpha = 0.05         # Significance level"
   ]
  },
  {
   "cell_type": "markdown",
   "id": "34c9c678-e4a4-49cd-a245-aae20a9aef8a",
   "metadata": {},
   "source": [
    "##### Calculating t-Statistics using the below formula\n",
    "##### T_Statistics = (sample_mean - theoretical_mean)/(sigma/sqrt(n))"
   ]
  },
  {
   "cell_type": "code",
   "execution_count": 22,
   "id": "bab467d6-d837-49fa-aad9-5bf2f39df0f8",
   "metadata": {},
   "outputs": [
    {
     "data": {
      "text/plain": [
       "-38.0"
      ]
     },
     "execution_count": 22,
     "metadata": {},
     "output_type": "execute_result"
    }
   ],
   "source": [
    "t_stats = (x_bar - mu)/(sigma/np.sqrt(n))\n",
    "t_stats"
   ]
  },
  {
   "cell_type": "markdown",
   "id": "d8727391-56b3-45e6-8dea-aa0d264cdb9e",
   "metadata": {},
   "source": [
    "3. Determining the Critical Value\n",
    "\n",
    "given alpha = 0.05, \n",
    "for the given alpha value 0.05 we have critical value as 1.645"
   ]
  },
  {
   "cell_type": "code",
   "execution_count": 10,
   "id": "356be063-c7a0-4b52-9874-9639cfbf6820",
   "metadata": {},
   "outputs": [],
   "source": [
    "# This is a one tailed test.\n",
    "# The reason is the hypothesis is testing for only increasing value that is right tailed.\n",
    "\n",
    "z_critical = 1.645      # critical value for one-tailed at alpha=0.05"
   ]
  },
  {
   "cell_type": "markdown",
   "id": "bf36d01f-b565-4014-a1ec-392a9b68da14",
   "metadata": {},
   "source": [
    "4. Make a Decision:"
   ]
  },
  {
   "cell_type": "code",
   "execution_count": 24,
   "id": "b8872f2b-9166-4f82-b030-04745565f86c",
   "metadata": {},
   "outputs": [
    {
     "name": "stdout",
     "output_type": "stream",
     "text": [
      "We failed to reject the null hypothesis(H0)\n"
     ]
    }
   ],
   "source": [
    "if t_stats >= z_critical:\n",
    "    print(\"Reject the null hypothesis(H0)\")\n",
    "else:\n",
    "    print(\"We failed to reject the null hypothesis(H0)\")"
   ]
  },
  {
   "cell_type": "markdown",
   "id": "51d32d0f-d5ef-485d-ad60-6e081749fe74",
   "metadata": {},
   "source": [
    "5. Conclusion:"
   ]
  },
  {
   "cell_type": "markdown",
   "id": "79391012-1124-426b-95ad-132d61b29bd0",
   "metadata": {},
   "source": [
    "Based on the above decision we can conclude that there's not enough evidence to support the claim of the restraunt's owner.\n",
    "\n",
    "Hence \"we accept the null hypothesis\" and there is no increase in the weekly operational cost.\n",
    "\n",
    "Therefore the formula should remain the same: W = 1000 + 5X"
   ]
  }
 ],
 "metadata": {
  "kernelspec": {
   "display_name": "Python 3 (ipykernel)",
   "language": "python",
   "name": "python3"
  },
  "language_info": {
   "codemirror_mode": {
    "name": "ipython",
    "version": 3
   },
   "file_extension": ".py",
   "mimetype": "text/x-python",
   "name": "python",
   "nbconvert_exporter": "python",
   "pygments_lexer": "ipython3",
   "version": "3.12.3"
  }
 },
 "nbformat": 4,
 "nbformat_minor": 5
}
