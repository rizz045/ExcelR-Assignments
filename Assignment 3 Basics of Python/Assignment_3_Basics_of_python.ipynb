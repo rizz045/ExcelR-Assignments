{
 "cells": [
  {
   "cell_type": "markdown",
   "id": "8f0e827c-cf8a-47ae-8119-1ff2689cd978",
   "metadata": {},
   "source": [
    "# ASSIGNMENT 3 : BASICS OF PYTHON"
   ]
  },
  {
   "cell_type": "markdown",
   "id": "41062654-f361-4395-851d-a5f8aca77710",
   "metadata": {},
   "source": [
    "Exercise 1: Prime Numbers\n",
    "Write a Python program that checks whether a given number is prime or not. A prime number is a natural number greater than 1 that has no positive divisors other than 1 and itself.\n"
   ]
  },
  {
   "cell_type": "code",
   "execution_count": 2,
   "id": "6bd589bf-e55a-4a7e-9be3-82b5f9db0dab",
   "metadata": {},
   "outputs": [
    {
     "name": "stdin",
     "output_type": "stream",
     "text": [
      "Enter a number :  11\n"
     ]
    },
    {
     "name": "stdout",
     "output_type": "stream",
     "text": [
      "11 is a prime number\n"
     ]
    }
   ],
   "source": [
    "def is_prime(n):\n",
    "    ''' This method check if the number is prime or not. '''\n",
    "    if n <= 1:                                    # if a number is 1 or less than one it will retuurn false\n",
    "        return False\n",
    "    for i in range(2, int(n/2)+1):                # We are running for loop from 2 till the half of the input number\n",
    "        if n%i == 0:\n",
    "            return False\n",
    "    return True\n",
    "\n",
    "num = int(input(\"Enter a number : \"))\n",
    "if (is_prime(num)):\n",
    "    print(f\"{num} is a prime number\")\n",
    "else:\n",
    "    print(f\"{num} is not a prime number\")"
   ]
  },
  {
   "cell_type": "markdown",
   "id": "80048706-f3f4-497b-8a90-37e6dc38e49c",
   "metadata": {},
   "source": [
    "--------------------------------------------------------------------------------------------------------------------------------------------------------\n",
    "Exercise 2: Product of Random Numbers\n",
    "Develop a Python program that generates two random numbers and asks the user to enter the product of these numbers. The program should then check if the user's answer is correct and display an appropriate message.\n"
   ]
  },
  {
   "cell_type": "code",
   "execution_count": 6,
   "id": "3a16af66-2fc9-4deb-b9ab-2a5c33b20f2f",
   "metadata": {},
   "outputs": [
    {
     "name": "stdin",
     "output_type": "stream",
     "text": [
      "Guess the product of 2 numbers 56\n"
     ]
    },
    {
     "name": "stdout",
     "output_type": "stream",
     "text": [
      "You've guessed 56\n",
      "Randomly generated numbers are 5 and 4 and their product is 20\n",
      "Sorry, Try Again!!\n"
     ]
    }
   ],
   "source": [
    "import random                   # importing random function \n",
    "\n",
    "x = random.randint(0, 11)       # take any random number from 0 to 10\n",
    "y = random.randint(0, 11)       # take any random number from 0 to 10\n",
    "\n",
    "z = int(input(\"Guess the product of 2 numbers\"))     # guessed input\n",
    "\n",
    "print(f\"You've guessed {z}\")\n",
    "print(f\"Randomly generated numbers are {x} and {y} and their product is {x*y}\")\n",
    "\n",
    "if z == x*y:                    # comparing guessed and actual input\n",
    "    print()\n",
    "    print(\"Congratulations!!! You've guessed the answer correctly Correctly\")\n",
    "else:\n",
    "    print(\"Sorry, Try Again!!\")"
   ]
  },
  {
   "cell_type": "markdown",
   "id": "251f2ed8-8157-4d6b-8da4-18588d82db6f",
   "metadata": {},
   "source": [
    "---------------------------------------------------------------------------------------------------------------------------------------------------------\n",
    "Exercise 3: Squares of Even/Odd Numbers\n",
    "Create a Python script that prints the squares of all even or odd numbers within the range of 100 to 200. Choose either even or odd numbers and document your choice in the code.\n"
   ]
  },
  {
   "cell_type": "code",
   "execution_count": 9,
   "id": "4ef9f16c-b56e-418c-b697-b8ac69bb8307",
   "metadata": {},
   "outputs": [
    {
     "name": "stdin",
     "output_type": "stream",
     "text": [
      "Choose even or odd :  even\n"
     ]
    },
    {
     "name": "stdout",
     "output_type": "stream",
     "text": [
      "100 = 10000\n",
      "102 = 10404\n",
      "104 = 10816\n",
      "106 = 11236\n",
      "108 = 11664\n",
      "110 = 12100\n",
      "112 = 12544\n",
      "114 = 12996\n",
      "116 = 13456\n",
      "118 = 13924\n",
      "120 = 14400\n",
      "122 = 14884\n",
      "124 = 15376\n",
      "126 = 15876\n",
      "128 = 16384\n",
      "130 = 16900\n",
      "132 = 17424\n",
      "134 = 17956\n",
      "136 = 18496\n",
      "138 = 19044\n",
      "140 = 19600\n",
      "142 = 20164\n",
      "144 = 20736\n",
      "146 = 21316\n",
      "148 = 21904\n",
      "150 = 22500\n",
      "152 = 23104\n",
      "154 = 23716\n",
      "156 = 24336\n",
      "158 = 24964\n",
      "160 = 25600\n",
      "162 = 26244\n",
      "164 = 26896\n",
      "166 = 27556\n",
      "168 = 28224\n",
      "170 = 28900\n",
      "172 = 29584\n",
      "174 = 30276\n",
      "176 = 30976\n",
      "178 = 31684\n",
      "180 = 32400\n",
      "182 = 33124\n",
      "184 = 33856\n",
      "186 = 34596\n",
      "188 = 35344\n",
      "190 = 36100\n",
      "192 = 36864\n",
      "194 = 37636\n",
      "196 = 38416\n",
      "198 = 39204\n",
      "200 = 40000\n"
     ]
    }
   ],
   "source": [
    "\n",
    "def squared(choice):\n",
    "    ''' This function finds the even or odd number from 100 to 200 '''\n",
    "    if choice == 'even':                     # for even list\n",
    "        for i in range(100, 201):            # for loop runs from 100 to 200\n",
    "            if i%2==0:                       # condition to check each number from 100 to 200 if it is even\n",
    "                print(f\"{i} = {i*i}\")        # prints even number and its square\n",
    "    elif choice == 'odd':                    # for odd list\n",
    "        for i in range(100, 201):            # for loop runs from 100 to 200\n",
    "            if i%2 != 0:                     # condition to check each number from 100 to 200 if it is odd\n",
    "                print(f\"{i} = {i*i}\")        # prints odd number and its square\n",
    "    else:\n",
    "        print(\"Invalid choice\")              #if anything other than \"even\" or \"odd\" is typed\n",
    "\n",
    "\n",
    "choice = input('Choose even or odd : ')      # input\n",
    "squared(choice)                              # function call"
   ]
  },
  {
   "cell_type": "markdown",
   "id": "cc0edbde-d4e4-49db-aac7-799fc7d8f739",
   "metadata": {},
   "source": [
    "--------------------------------------------------------------------------------------------------------------------------------------------------------\n",
    "Exercise 4: Word counter\n",
    "write a program to count the number of words in a given text.\n",
    "example:\n",
    "\n",
    "input_text = \"This is a sample text. This text will be used to demonstrate the word counter.\"\n",
    "\n",
    "Expected output:\n",
    "\n",
    "'This': 2 \n",
    "\n",
    "'is': 1\n",
    "\n",
    "'a': 1\n",
    "\n",
    "'sample': 1\n",
    "\n",
    "'text.': 1\n"
   ]
  },
  {
   "cell_type": "code",
   "execution_count": null,
   "id": "edae9772-9975-4f85-a5d8-ec8c825f04c8",
   "metadata": {},
   "outputs": [],
   "source": [
    "string = input(\"Enter a sentence: \").lower()   # here we are converting every word to lower case so there is no difference between \"This\" and \"this\" and it will be considered as single word\n",
    "string = string.split()   #The sentence is converted into a list\n",
    "def counter(lst):   #the list is sent as an argument in this method\n",
    "    ''' This function finds the count of each word in a sentence.'''\n",
    "    counter_dict = {}   \n",
    "    for i in range(len(lst)):\n",
    "        key = lst[i]             # our every key is our word\n",
    "        val = lst.count(key)     # our value is the count of that key appeared in the sentence\n",
    "        counter_dict.update({key:val})   #adds each key and value i.e word and it's count as key value pair\n",
    "    return counter_dict    #returning the dictionary\n",
    "\n",
    "print(counter(string))   #since dictionary do not contain any duplicate values only the unique words of the sentence will be displayed."
   ]
  },
  {
   "cell_type": "markdown",
   "id": "60df9c22-4e88-486d-b222-0526eff29dfb",
   "metadata": {},
   "source": [
    "---------------------------------------------------------------------------------------------------------------------------------------------------------\n",
    "Exercise 5: Check for Palindrome\n",
    "Write a Python function called is_palindrome that takes a string as input and returns True if the string is a palindrome, and False otherwise. A palindrome is a word, phrase, number, or other sequence of characters that reads the same forward and backward, ignoring spaces, punctuation, and capitalization.\n",
    "\n",
    "Example:\n",
    "\n",
    "Input: \"racecar\"\n",
    "\n",
    "Expected Output: True"
   ]
  },
  {
   "cell_type": "code",
   "execution_count": 143,
   "id": "c269c2c2-f41e-440f-b94b-a1c3d8b787b9",
   "metadata": {},
   "outputs": [
    {
     "name": "stdin",
     "output_type": "stream",
     "text": [
      "Enter a word to check if it is a plaindrome:  Racecar\n"
     ]
    },
    {
     "name": "stdout",
     "output_type": "stream",
     "text": [
      "Racecar  is not a palindrome\n"
     ]
    }
   ],
   "source": [
    "# A palindrome is word that is read same from forward and backward.\n",
    "\n",
    "word = input(\"Enter a word to check if it is a plaindrome: \").lower()    #Ignores the first capital letter\n",
    "rev_word = word[::-1]    # This line reverse the code \n",
    "if word == rev_word:     # Checks the entered word and reversed word\n",
    "    print(word,\" is a palindrome\")\n",
    "else:\n",
    "    print(word,\" is not a palindrome\") "
   ]
  }
 ],
 "metadata": {
  "kernelspec": {
   "display_name": "Python 3 (ipykernel)",
   "language": "python",
   "name": "python3"
  },
  "language_info": {
   "codemirror_mode": {
    "name": "ipython",
    "version": 3
   },
   "file_extension": ".py",
   "mimetype": "text/x-python",
   "name": "python",
   "nbconvert_exporter": "python",
   "pygments_lexer": "ipython3",
   "version": "3.12.3"
  }
 },
 "nbformat": 4,
 "nbformat_minor": 5
}
